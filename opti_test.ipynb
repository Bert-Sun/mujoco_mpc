{
 "cells": [
  {
   "cell_type": "code",
   "execution_count": 2,
   "metadata": {},
   "outputs": [],
   "source": [
    "import casadi"
   ]
  },
  {
   "cell_type": "code",
   "execution_count": 63,
   "metadata": {},
   "outputs": [],
   "source": [
    "class d_test_fn(casadi.Callback):\n",
    "  def __init__(self, name, opts={}):\n",
    "    casadi.Callback.__init__(self)\n",
    "    self.construct(name, opts)\n",
    "\n",
    "  # Number of inputs and outputs\n",
    "  def get_n_in(self): return 2\n",
    "  def get_n_out(self): return 1\n",
    "\n",
    "  def get_sparsity_in(self, n_in): return casadi.Sparsity.dense(3)\n",
    "  def get_sparsity_out(self, n_out): return casadi.Sparsity.dense(3,3) \n",
    "\n",
    "  # def has_jacobian(self, *args) -> bool:\n",
    "  #   return True\n",
    "  # def get_jacobian(self, *args):\n",
    "  #   print(args)\n",
    "  #   return self.jac(*args)\n",
    "\n",
    "  # Initialize the object\n",
    "  def init(self):\n",
    "    # print('initializing object')\n",
    "    pass\n",
    "\n",
    "  # Evaluate numerically\n",
    "  def eval(self, arg):\n",
    "    return [casadi.DM.eye(3)]\n",
    "    \n",
    "class test_fn(casadi.Callback):\n",
    "  def __init__(self, name, opts={}):\n",
    "    casadi.Callback.__init__(self)\n",
    "    # idk how relevant this is but whatever\n",
    "    self.construct(name, opts)\n",
    "    self.df = d_test_fn('df')\n",
    "\n",
    "  # define number of inputs  \n",
    "  def get_n_in(self): return 1\n",
    "  # define number of outputs\n",
    "  def get_n_out(self): return 1\n",
    "\n",
    "  # define shape of input number n_in\n",
    "  def get_sparsity_in(self, n_in): return casadi.Sparsity.dense(3)\n",
    "  # define shape of output number n_out\n",
    "  def get_sparsity_out(self, n_out): return casadi.Sparsity.dense(3)\n",
    "\n",
    "  # tell opti that fcn has a derivative\n",
    "  def has_jacobian(self): return True\n",
    "  def get_jacobian(self, name, inames, onames, opts={}):\n",
    "    x = casadi.MX.sym(inames[0], 3)\n",
    "    out = casadi.MX.sym(inames[1],3)\n",
    "    jac = self.df(x, out)\n",
    "    # need to register the function so it doesn't go out of scope when returning\n",
    "    return casadi.Function(name, [x,out], [jac])\n",
    "\n",
    "  def eval(self, arg):\n",
    "    # arguments are given as a list\n",
    "    x = arg[0]\n",
    "    # print(x, type(x))\n",
    "    # casadi expects return to be in a vector\n",
    "    return [x]\n"
   ]
  },
  {
   "cell_type": "code",
   "execution_count": 64,
   "metadata": {},
   "outputs": [
    {
     "name": "stdout",
     "output_type": "stream",
     "text": [
      "[0, 0, 0]\n"
     ]
    }
   ],
   "source": [
    "f = test_fn('f')\n",
    "df = d_test_fn('f_jac')\n",
    "\n",
    "print(f([0,0,0]))"
   ]
  },
  {
   "cell_type": "code",
   "execution_count": 58,
   "metadata": {},
   "outputs": [
    {
     "name": "stdout",
     "output_type": "stream",
     "text": [
      "This is Ipopt version 3.14.11, running with linear solver MUMPS 5.4.1.\n",
      "\n",
      "Number of nonzeros in equality constraint Jacobian...:        3\n",
      "Number of nonzeros in inequality constraint Jacobian.:        0\n",
      "Number of nonzeros in Lagrangian Hessian.............:        3\n",
      "\n",
      "Total number of variables............................:        3\n",
      "                     variables with only lower bounds:        0\n",
      "                variables with lower and upper bounds:        0\n",
      "                     variables with only upper bounds:        0\n",
      "Total number of equality constraints.................:        1\n",
      "Total number of inequality constraints...............:        0\n",
      "        inequality constraints with only lower bounds:        0\n",
      "   inequality constraints with lower and upper bounds:        0\n",
      "        inequality constraints with only upper bounds:        0\n",
      "\n",
      "iter    objective    inf_pr   inf_du lg(mu)  ||d||  lg(rg) alpha_du alpha_pr  ls\n",
      "   0  0.0000000e+00 1.00e+00 0.00e+00  -1.0 0.00e+00    -  0.00e+00 0.00e+00   0\n",
      "   1  3.3333333e-01 0.00e+00 0.00e+00  -1.7 3.33e-01    -  1.00e+00 1.00e+00h  1\n",
      "\n",
      "Number of Iterations....: 1\n",
      "\n",
      "                                   (scaled)                 (unscaled)\n",
      "Objective...............:   3.3333333333333337e-01    3.3333333333333337e-01\n",
      "Dual infeasibility......:   0.0000000000000000e+00    0.0000000000000000e+00\n",
      "Constraint violation....:   0.0000000000000000e+00    0.0000000000000000e+00\n",
      "Variable bound violation:   0.0000000000000000e+00    0.0000000000000000e+00\n",
      "Complementarity.........:   0.0000000000000000e+00    0.0000000000000000e+00\n",
      "Overall NLP error.......:   0.0000000000000000e+00    0.0000000000000000e+00\n",
      "\n",
      "\n",
      "Number of objective function evaluations             = 2\n",
      "Number of objective gradient evaluations             = 2\n",
      "Number of equality constraint evaluations            = 2\n",
      "Number of inequality constraint evaluations          = 0\n",
      "Number of equality constraint Jacobian evaluations   = 2\n",
      "Number of inequality constraint Jacobian evaluations = 0\n",
      "Number of Lagrangian Hessian evaluations             = 1\n",
      "Total seconds in IPOPT                               = 0.001\n",
      "\n",
      "EXIT: Optimal Solution Found.\n",
      "      solver  :   t_proc      (avg)   t_wall      (avg)    n_eval\n",
      "       nlp_f  |        0 (       0)   2.00us (  1.00us)         2\n",
      "       nlp_g  |        0 (       0)   3.00us (  1.50us)         2\n",
      "  nlp_grad_f  |        0 (       0)   5.00us (  1.67us)         3\n",
      "  nlp_hess_l  |        0 (       0)   1.00us (  1.00us)         1\n",
      "   nlp_jac_g  |        0 (       0)   3.00us (  1.00us)         3\n",
      "       total  |   1.00ms (  1.00ms)   1.11ms (  1.11ms)         1\n",
      "Opti {\n",
      "  instance #14\n",
      "  #variables: 1 (nx = 3)\n",
      "  #parameters: 0 (np = 0)\n",
      "  #constraints: 1 (ng = 1)\n",
      "  CasADi solver allocated.\n",
      "  CasADi solver was called: Solve_Succeeded\n",
      "}\n"
     ]
    }
   ],
   "source": [
    "opti = casadi.Opti()\n",
    "x = opti.variable(3)\n",
    "opts = {}\n",
    "# opts['ipopt.hessian_approximation'] = 'limited-memory'\n",
    "opti.minimize(x[0]**2 + x[1]**2 + x[2]**2)\n",
    "opti.subject_to(x[0]+x[1]+x[2] == 1)\n",
    "\n",
    "opti.solver(\"ipopt\", opts)\n",
    "sol=opti.solve()\n",
    "print(sol)"
   ]
  },
  {
   "cell_type": "code",
   "execution_count": 65,
   "metadata": {},
   "outputs": [
    {
     "name": "stdout",
     "output_type": "stream",
     "text": [
      "This is Ipopt version 3.14.11, running with linear solver MUMPS 5.4.1.\n",
      "\n",
      "Number of nonzeros in equality constraint Jacobian...:        3\n",
      "Number of nonzeros in inequality constraint Jacobian.:        0\n",
      "Number of nonzeros in Lagrangian Hessian.............:        0\n",
      "\n",
      "Total number of variables............................:        3\n",
      "                     variables with only lower bounds:        0\n",
      "                variables with lower and upper bounds:        0\n",
      "                     variables with only upper bounds:        0\n",
      "Total number of equality constraints.................:        1\n",
      "Total number of inequality constraints...............:        0\n",
      "        inequality constraints with only lower bounds:        0\n",
      "   inequality constraints with lower and upper bounds:        0\n",
      "        inequality constraints with only upper bounds:        0\n",
      "\n",
      "iter    objective    inf_pr   inf_du lg(mu)  ||d||  lg(rg) alpha_du alpha_pr  ls\n",
      "   0  0.0000000e+00 1.00e+00 0.00e+00   0.0 0.00e+00    -  0.00e+00 0.00e+00   0\n",
      "   1  3.3333333e-01 1.11e-16 0.00e+00 -11.0 3.33e-01    -  1.00e+00 1.00e+00h  1\n",
      "\n",
      "Number of Iterations....: 1\n",
      "\n",
      "                                   (scaled)                 (unscaled)\n",
      "Objective...............:   3.3333333333333337e-01    3.3333333333333337e-01\n",
      "Dual infeasibility......:   0.0000000000000000e+00    0.0000000000000000e+00\n",
      "Constraint violation....:   1.1102230246251565e-16    1.1102230246251565e-16\n",
      "Variable bound violation:   0.0000000000000000e+00    0.0000000000000000e+00\n",
      "Complementarity.........:   0.0000000000000000e+00    0.0000000000000000e+00\n",
      "Overall NLP error.......:   1.1102230246251565e-16    1.1102230246251565e-16\n",
      "\n",
      "\n",
      "Number of objective function evaluations             = 2\n",
      "Number of objective gradient evaluations             = 2\n",
      "Number of equality constraint evaluations            = 2\n",
      "Number of inequality constraint evaluations          = 0\n",
      "Number of equality constraint Jacobian evaluations   = 2\n",
      "Number of inequality constraint Jacobian evaluations = 0\n",
      "Number of Lagrangian Hessian evaluations             = 0\n",
      "Total seconds in IPOPT                               = 0.001\n",
      "\n",
      "EXIT: Optimal Solution Found.\n",
      "      solver  :   t_proc      (avg)   t_wall      (avg)    n_eval\n",
      "       nlp_f  |        0 (       0)  18.00us (  9.00us)         2\n",
      "       nlp_g  |        0 (       0)  41.00us ( 20.50us)         2\n",
      "  nlp_grad_f  |        0 (       0) 107.00us ( 35.67us)         3\n",
      "   nlp_jac_g  |        0 (       0)  95.00us ( 31.67us)         3\n",
      "       total  |   1.00ms (  1.00ms)   1.45ms (  1.45ms)         1\n",
      "Opti {\n",
      "  instance #17\n",
      "  #variables: 1 (nx = 3)\n",
      "  #parameters: 0 (np = 0)\n",
      "  #constraints: 1 (ng = 1)\n",
      "  CasADi solver allocated.\n",
      "  CasADi solver was called: Solve_Succeeded\n",
      "}\n"
     ]
    }
   ],
   "source": [
    "opti = casadi.Opti()\n",
    "x = opti.variable(3)\n",
    "opts = {}\n",
    "# neccesary to avoid hessian computations that we cannot produce with mujoco setup\n",
    "opts['ipopt.hessian_approximation'] = 'limited-memory'\n",
    "opti.minimize(f(x)[0]**2 + f(x)[1]**2+f(x)[2]**2)\n",
    "opti.subject_to(f(x)[0] + f(x)[1] == f(x)[2] +1)\n",
    "\n",
    "opti.solver(\"ipopt\", opts)\n",
    "sol=opti.solve()\n",
    "print(sol)"
   ]
  },
  {
   "cell_type": "code",
   "execution_count": 66,
   "metadata": {},
   "outputs": [
    {
     "data": {
      "text/plain": [
       "array([ 0.33333333,  0.33333333, -0.33333333])"
      ]
     },
     "execution_count": 66,
     "metadata": {},
     "output_type": "execute_result"
    }
   ],
   "source": [
    "sol.value(x)"
   ]
  }
 ],
 "metadata": {
  "kernelspec": {
   "display_name": "base",
   "language": "python",
   "name": "python3"
  },
  "language_info": {
   "codemirror_mode": {
    "name": "ipython",
    "version": 3
   },
   "file_extension": ".py",
   "mimetype": "text/x-python",
   "name": "python",
   "nbconvert_exporter": "python",
   "pygments_lexer": "ipython3",
   "version": "3.11.8"
  }
 },
 "nbformat": 4,
 "nbformat_minor": 2
}
